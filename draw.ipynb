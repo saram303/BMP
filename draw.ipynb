{
 "cells": [
  {
   "cell_type": "code",
   "execution_count": 1,
   "metadata": {},
   "outputs": [],
   "source": [
    "import networkx as nx\n",
    "import numpy as np\n",
    "import matplotlib.pyplot as plt"
   ]
  },
  {
   "cell_type": "code",
   "execution_count": 9,
   "metadata": {},
   "outputs": [],
   "source": [
    "\n",
    "G = nx.DiGraph()\n",
    "G.add_nodes_from([1,2,3])\n",
    "G.add_edges_from([(1,2),(1,3),(2,3)])\n",
    "pos = [[],[0.5,np.sqrt(3)],[0.0, 0.0],[1.0, 0.0]]\n",
    "nx.draw(G, pos=pos)\n",
    "labeldict = {}\n",
    "labeldict[1] = 'B'\n",
    "labeldict[2] = 'C'\n",
    "labeldict[3] = 'A'\n",
    "nx.draw_networkx_nodes(G,  pos=pos, node_size=2000)\n",
    "nx.draw_networkx_labels(G, pos=pos, labels = labeldict, font_size= 30)\n",
    "nx.draw_networkx_edges(G, pos, node_size=2000, arrowsize=30,width=2)\n",
    "plt.savefig('triangle.pdf')\n",
    "plt.close()"
   ]
  },
  {
   "cell_type": "code",
   "execution_count": 22,
   "metadata": {},
   "outputs": [
    {
     "data": {
      "text/plain": [
       "NodeView((1, 2, 3))"
      ]
     },
     "execution_count": 22,
     "metadata": {},
     "output_type": "execute_result"
    }
   ],
   "source": [
    "G.nodes"
   ]
  },
  {
   "cell_type": "code",
   "execution_count": null,
   "metadata": {},
   "outputs": [],
   "source": []
  },
  {
   "cell_type": "markdown",
   "metadata": {},
   "source": [
    "### Drawing hypermatrices"
   ]
  },
  {
   "cell_type": "code",
   "execution_count": 11,
   "metadata": {},
   "outputs": [],
   "source": [
    "from matplotlib.pyplot import plot\n",
    "import matplotlib.pyplot as plt"
   ]
  },
  {
   "cell_type": "code",
   "execution_count": 2,
   "metadata": {},
   "outputs": [],
   "source": [
    "def draw(T):\n",
    "    plt.plot([5.6,9.4],[2,2])"
   ]
  },
  {
   "cell_type": "code",
   "execution_count": 24,
   "metadata": {},
   "outputs": [],
   "source": [
    "from itertools import product\n",
    "def flat(T):\n",
    "    length = len(T.shape)\n",
    "    if length<3:\n",
    "        raise Exception('il tensore non è 3D')\n",
    "    new_shape = [8]+[2 for _ in range(length-3)]\n",
    "    new_T = sp.MutableDenseNDimArray(np.zeros(new_shape))\n",
    "    if length-3>0:\n",
    "        indices = product([0,1], repeat=length-3)\n",
    "    else:\n",
    "        indices = [[]]\n",
    "    for index in indices:\n",
    "        new_T[[0]+list(index)] = T[[0,0,0]+list(index)]\n",
    "        new_T[[1]+list(index)] = T[[1,0,0]+list(index)]\n",
    "        new_T[[2]+list(index)] = T[[0,1,0]+list(index)]\n",
    "        new_T[[2]+list(index)] = T[[1,1,0]+list(index)]\n",
    "        new_T[[4]+list(index)] = T[[0,0,1]+list(index)]\n",
    "        new_T[[5]+list(index)] = T[[1,0,1]+list(index)]\n",
    "        new_T[[6]+list(index)] = T[[0,1,1]+list(index)]\n",
    "        new_T[[7]+list(index)] = T[[1,1,1]+list(index)]\n",
    "    return new_T"
   ]
  },
  {
   "cell_type": "code",
   "execution_count": 1,
   "metadata": {},
   "outputs": [
    {
     "name": "stdout",
     "output_type": "stream",
     "text": [
      "Intel MKL WARNING: Support of Intel(R) Streaming SIMD Extensions 4.2 (Intel(R) SSE4.2) enabled only processors has been deprecated. Intel oneAPI Math Kernel Library 2025.0 will require Intel(R) Advanced Vector Extensions (Intel(R) AVX) instructions.\n",
      "Intel MKL WARNING: Support of Intel(R) Streaming SIMD Extensions 4.2 (Intel(R) SSE4.2) enabled only processors has been deprecated. Intel oneAPI Math Kernel Library 2025.0 will require Intel(R) Advanced Vector Extensions (Intel(R) AVX) instructions.\n"
     ]
    }
   ],
   "source": [
    "import sympy as sp\n",
    "from utils import *\n",
    "a = sp.symbols(\"a\")\n",
    "b = sp.symbols(\"b\")\n",
    "c = sp.symbols(\"c\")\n",
    "d = sp.symbols(\"d\")\n",
    "a_o = sp.MutableDenseNDimArray([a,0])\n",
    "o_b = sp.MutableDenseNDimArray([0,b])\n",
    "u_u = sp.MutableDenseNDimArray([1,1])\n",
    "u_o = sp.MutableDenseNDimArray([1,0])\n",
    "o_u = sp.MutableDenseNDimArray([0,1])\n",
    "a_b_diff = sp.MutableDenseNDimArray([a-b,b-a])\n",
    "a_b = sp.MutableDenseNDimArray([a,b])\n",
    "b_a = sp.MutableDenseNDimArray([b,a])\n",
    "from sympy import tensorproduct as tp\n",
    "from utils import *\n",
    "C_op = sp.MutableDenseNDimArray([[a,b],[b,a]])\n",
    "D_op = C_op\n",
    "C_op = blow(C_op)\n"
   ]
  },
  {
   "cell_type": "code",
   "execution_count": 35,
   "metadata": {},
   "outputs": [],
   "source": [
    "\n",
    "x = np.linspace(0.0001,0.01,10000)\n",
    "f = lambda x: (1+np.sqrt(x))**(1/x)\n",
    "y = f(x)"
   ]
  },
  {
   "cell_type": "code",
   "execution_count": 36,
   "metadata": {},
   "outputs": [
    {
     "data": {
      "text/plain": [
       "[<matplotlib.lines.Line2D at 0x11a5e8610>]"
      ]
     },
     "execution_count": 36,
     "metadata": {},
     "output_type": "execute_result"
    },
    {
     "data": {
      "image/png": "[encoded data removed]",
      "text/plain": [
       "<Figure size 640x480 with 1 Axes>"
      ]
     },
     "metadata": {},
     "output_type": "display_data"
    }
   ],
   "source": [
    "plot(x,y)"
   ]
  },
  {
   "cell_type": "code",
   "execution_count": null,
   "metadata": {},
   "outputs": [],
   "source": []
  }
 ],
 "metadata": {
  "kernelspec": {
   "display_name": "tensors",
   "language": "python",
   "name": "python3"
  },
  "language_info": {
   "codemirror_mode": {
    "name": "ipython",
    "version": 3
   },
   "file_extension": ".py",
   "mimetype": "text/x-python",
   "name": "python",
   "nbconvert_exporter": "python",
   "pygments_lexer": "ipython3",
   "version": "3.11.4"
  },
  "orig_nbformat": 4
 },
 "nbformat": 4,
 "nbformat_minor": 2
}
